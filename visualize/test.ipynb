{
 "cells": [
  {
   "cell_type": "code",
   "execution_count": 1,
   "metadata": {},
   "outputs": [],
   "source": [
    "import open3d as o3d\n",
    "# import torch\n",
    "# import numpy as np\n",
    "# from open3d.web_visualizer import draw"
   ]
  },
  {
   "cell_type": "code",
   "execution_count": 2,
   "metadata": {},
   "outputs": [
    {
     "name": "stdout",
     "output_type": "stream",
     "text": [
      "Jupyter environment detected. Enabling Open3D WebVisualizer.\n"
     ]
    },
    {
     "ename": "AttributeError",
     "evalue": "partially initialized module 'open3d' has no attribute 'visualization' (most likely due to a circular import)",
     "output_type": "error",
     "traceback": [
      "\u001b[0;31m---------------------------------------------------------------------------\u001b[0m",
      "\u001b[0;31mAttributeError\u001b[0m                            Traceback (most recent call last)",
      "Cell \u001b[0;32mIn[2], line 1\u001b[0m\n\u001b[0;32m----> 1\u001b[0m \u001b[38;5;28;01mfrom\u001b[39;00m \u001b[38;5;21;01mopen3d\u001b[39;00m\u001b[38;5;21;01m.\u001b[39;00m\u001b[38;5;21;01mweb_visualizer\u001b[39;00m \u001b[38;5;28;01mimport\u001b[39;00m draw\n",
      "File \u001b[0;32m~/miniconda3/envs/ptv3/lib/python3.8/site-packages/open3d/__init__.py:131\u001b[0m\n\u001b[1;32m    128\u001b[0m \u001b[38;5;28mprint\u001b[39m(\u001b[38;5;124m\"\u001b[39m\u001b[38;5;124mJupyter environment detected. \u001b[39m\u001b[38;5;124m\"\u001b[39m\n\u001b[1;32m    129\u001b[0m       \u001b[38;5;124m\"\u001b[39m\u001b[38;5;124mEnabling Open3D WebVisualizer.\u001b[39m\u001b[38;5;124m\"\u001b[39m)\n\u001b[1;32m    130\u001b[0m \u001b[38;5;66;03m# Set default window system.\u001b[39;00m\n\u001b[0;32m--> 131\u001b[0m \u001b[43mopen3d\u001b[49m\u001b[38;5;241;43m.\u001b[39;49m\u001b[43mvisualization\u001b[49m\u001b[38;5;241m.\u001b[39mwebrtc_server\u001b[38;5;241m.\u001b[39menable_webrtc()\n\u001b[1;32m    132\u001b[0m \u001b[38;5;66;03m# HTTP handshake server is needed when Open3D is serving the\u001b[39;00m\n\u001b[1;32m    133\u001b[0m \u001b[38;5;66;03m# visualizer webpage. Disable since Jupyter is serving.\u001b[39;00m\n\u001b[1;32m    134\u001b[0m open3d\u001b[38;5;241m.\u001b[39mvisualization\u001b[38;5;241m.\u001b[39mwebrtc_server\u001b[38;5;241m.\u001b[39mdisable_http_handshake()\n",
      "\u001b[0;31mAttributeError\u001b[0m: partially initialized module 'open3d' has no attribute 'visualization' (most likely due to a circular import)"
     ]
    }
   ],
   "source": [
    "from open3d.web_visualizer import draw"
   ]
  },
  {
   "cell_type": "code",
   "execution_count": 3,
   "metadata": {},
   "outputs": [
    {
     "ename": "NameError",
     "evalue": "name 'o3d' is not defined",
     "output_type": "error",
     "traceback": [
      "\u001b[0;31m---------------------------------------------------------------------------\u001b[0m",
      "\u001b[0;31mNameError\u001b[0m                                 Traceback (most recent call last)",
      "Cell \u001b[0;32mIn[3], line 1\u001b[0m\n\u001b[0;32m----> 1\u001b[0m cube_red \u001b[38;5;241m=\u001b[39m \u001b[43mo3d\u001b[49m\u001b[38;5;241m.\u001b[39mgeometry\u001b[38;5;241m.\u001b[39mTriangleMesh\u001b[38;5;241m.\u001b[39mcreate_box(\u001b[38;5;241m1\u001b[39m, \u001b[38;5;241m2\u001b[39m, \u001b[38;5;241m4\u001b[39m)\n\u001b[1;32m      2\u001b[0m cube_red\u001b[38;5;241m.\u001b[39mcompute_vertex_normals()\n\u001b[1;32m      3\u001b[0m cube_red\u001b[38;5;241m.\u001b[39mpaint_uniform_color((\u001b[38;5;241m1.0\u001b[39m, \u001b[38;5;241m0.0\u001b[39m, \u001b[38;5;241m0.0\u001b[39m))\n",
      "\u001b[0;31mNameError\u001b[0m: name 'o3d' is not defined"
     ]
    }
   ],
   "source": [
    "cube_red = o3d.geometry.TriangleMesh.create_box(1, 2, 4)\n",
    "cube_red.compute_vertex_normals()\n",
    "cube_red.paint_uniform_color((1.0, 0.0, 0.0))\n",
    "draw(cube_red)"
   ]
  }
 ],
 "metadata": {
  "kernelspec": {
   "display_name": "ptv3",
   "language": "python",
   "name": "python3"
  },
  "language_info": {
   "codemirror_mode": {
    "name": "ipython",
    "version": 3
   },
   "file_extension": ".py",
   "mimetype": "text/x-python",
   "name": "python",
   "nbconvert_exporter": "python",
   "pygments_lexer": "ipython3",
   "version": "3.8.19"
  }
 },
 "nbformat": 4,
 "nbformat_minor": 2
}
